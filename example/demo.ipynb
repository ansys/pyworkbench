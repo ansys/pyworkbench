{
 "cells": [
  {
   "cell_type": "markdown",
   "id": "558376fd-674a-424c-8885-65a872acfd95",
   "metadata": {},
   "source": [
    "# PyFluent and PyMechanical out of PyWorkbench session"
   ]
  },
  {
   "cell_type": "code",
   "execution_count": null,
   "id": "014c5732-9f2b-423d-81ed-8e70928b2e47",
   "metadata": {
    "tags": []
   },
   "outputs": [],
   "source": [
    "import os\n",
    "import json\n",
    "from ansys.workbench.core.launch_workbench import launch_workbench\n",
    "import ansys.fluent.core as pyfluent\n",
    "from ansys.mechanical.core import launch_mechanical"
   ]
  },
  {
   "cell_type": "code",
   "execution_count": null,
   "id": "705a3b24-b51d-4724-8a17-f7307873197c",
   "metadata": {
    "tags": []
   },
   "outputs": [],
   "source": [
    "# launch Workbench on the local machine\n",
    "wb = launch_workbench(client_workdir='C:/Users/fli/demo')"
   ]
  },
  {
   "cell_type": "code",
   "execution_count": null,
   "id": "d02aea0f-e99b-434b-b3d1-c60a87b092ea",
   "metadata": {},
   "outputs": [],
   "source": [
    "# upload-download-file round trip\n",
    "wb.upload_file('sample.png')\n",
    "wb.run_script_string(\"\"\"import os\n",
    "wdir = GetServerWorkingDirectory()\n",
    "if os.path.exists(os.path.join(wdir, 'renamed.png')):\n",
    "    os.remove(os.path.join(wdir, 'renamed.png'))\n",
    "os.rename(os.path.join(wdir, 'sample.png'), os.path.join(wdir, 'renamed.png'))\n",
    "\"\"\")\n",
    "wb.download_file('renamed.png')\n",
    "are_same = open('sample.png', 'rb').read() == open('renamed.png', 'rb').read()\n",
    "print('are two files the same? ' + str(are_same))"
   ]
  },
  {
   "cell_type": "code",
   "execution_count": null,
   "id": "b6af4888-7482-4c40-96da-c959b4147b3a",
   "metadata": {},
   "outputs": [],
   "source": [
    "# create a Fluent system and return its name\n",
    "fluent_sys_name = wb.run_script_string('import json\\nwb_script_result=json.dumps(GetTemplate(TemplateName=\\\"FLUENT\\\").CreateSystem().Name)')"
   ]
  },
  {
   "cell_type": "code",
   "execution_count": null,
   "id": "e88ab850-d840-4919-954c-eacd29a699fd",
   "metadata": {},
   "outputs": [],
   "source": [
    "# start PyFluent server on the system, then create a PyFluent client session\n",
    "server_info_file=wb.start_pyfluent(system_name=fluent_sys_name)\n",
    "fluent=pyfluent.connect_to_fluent(server_info_filepath=server_info_file)"
   ]
  },
  {
   "cell_type": "code",
   "execution_count": null,
   "id": "221ad401-82d1-480d-8910-da0dd34b5a2c",
   "metadata": {
    "tags": []
   },
   "outputs": [],
   "source": [
    "# basic status queries on the PyFluent session\n",
    "print('server is serving? ' + str(fluent.health_check_service.is_serving))\n",
    "print('server version: ' + fluent.get_fluent_version())"
   ]
  },
  {
   "cell_type": "code",
   "execution_count": null,
   "id": "6a3fd1a1-d261-45e0-9c9f-3f043d00aea6",
   "metadata": {},
   "outputs": [],
   "source": [
    "# upload an example Fluent case file, load it into the Fluent session\n",
    "wb.upload_file_from_example_repo(\"elbow.cas.h5\", \"elbow_case_file\")\n",
    "setup_state=wb.run_script_string(f\"\"\"import os\n",
    "sys=GetSystem(Name='{fluent_sys_name}')\n",
    "dir=GetServerWorkingDirectory()\n",
    "sys.GetContainer(ComponentName=\"Setup\").Import(FilePath=os.path.join(dir, 'elbow.cas.h5'), FileType='CffCase')\n",
    "setup=sys.GetComponent(Name=\"Setup\")\n",
    "setup.Refresh()\n",
    "wb_script_result = json.dumps(GetComponentState(Component=setup).State.ToString())\n",
    "\"\"\")\n",
    "print('Fluent Setup component is ' + setup_state)\n",
   ]
  },
  {
   "cell_type": "code",
   "execution_count": null,
   "id": "a94f8a4e-4995-4d48-8966-8734c6c9d4bc",
   "metadata": {},
   "outputs": [],
   "source": [
    "# create a Mechanical system on Workbench, then load geometry\n",
    "wb.upload_file_from_example_repo(\"2pipes.agdb\", \"2pipes\")\n",
    "ss_system_name = wb.run_script_file('load_geometry.wbjn')"
   ]
  },
  {
   "cell_type": "code",
   "execution_count": null,
   "id": "110c8edc-e890-422b-8323-3dddb2af346c",
   "metadata": {},
   "outputs": [],
   "source": [
    "# start PyMechanical server on the system, then create a PyMechanical client session\n",
    "#server_port=wb.start_pymechanical(system_name=ss_system_name)\n",
    "mechanical = launch_mechanical(start_instance=False, ip='localhost', port=server_port)"
   ]
  },
  {
   "cell_type": "code",
   "execution_count": null,
   "id": "48320724-37fb-41d4-959e-d9b0437a7bff",
   "metadata": {},
   "outputs": [],
   "source": [
    "# perform some queries on the PyMechanical session\n",
    "print(mechanical.version)\n",
    "mechanical.list_files()"
   ]
  },
  {
   "cell_type": "code",
   "execution_count": null,
   "id": "6dfe8b49-c81b-4718-851e-e1f6f0f30a12",
   "metadata": {
    "tags": []
   },
   "outputs": [],
   "source": [
    "# shutdown the Workbench service\n",
    "wb.exit()"
   ]
  }
 ],
 "metadata": {
  "kernelspec": {
   "display_name": "Python 3 (ipykernel)",
   "language": "python",
   "name": "python3"
  },
  "language_info": {
   "codemirror_mode": {
    "name": "ipython",
    "version": 3
   },
   "file_extension": ".py",
   "mimetype": "text/x-python",
   "name": "python",
   "nbconvert_exporter": "python",
   "pygments_lexer": "ipython3",
   "version": "3.9.4"
  }
 },
 "nbformat": 4,
 "nbformat_minor": 5
}
